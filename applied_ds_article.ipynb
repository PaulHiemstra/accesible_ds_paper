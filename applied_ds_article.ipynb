{
 "cells": [
  {
   "cell_type": "markdown",
   "metadata": {},
   "source": [
    "# There is no data science like applied data science\n",
    "*How Jeremy Howard of FastAI sold me on applied Data Science for the masses*\n",
    "\n",
    "# Introduction\n",
    "A while back I listened to [an interview with Jeremy Howard](https://youtu.be/J6XcP4JOHmk) of [FastAI](https://www.fast.ai/) by [Lex Fridman](https://www.youtube.com/channel/UCSHZKyawb77ixDdsGog4iWA). In that interview he shared his passion: making neural networks extremely easy to work with and thus making them accessible to a wider audience. By increasing the number of people trying to solve relevant problems, he argues, more of those problems will be solved in the long run. The example he referenced was a tech savvy doctor using deep learning to solve concrete medical issues. \n",
    "\n",
    "In this article I want to expand on what in my opinion is needed for an accessible applied deep learning platform. In addition, I want to go into the relation between more fundamental research and applied deep learning. \n",
    "\n",
    "# What makes a deep learning system accessible\n",
    "*Abstraction level*\n",
    "\n",
    "One of the most important aspect an accessible system needs to get right is the abstraction level of the interface. With the term abstraction I mean the amount and type of information the user has to deal with when working with the deep learning system. Abstracting unneeded information and details away from the user makes the information load more manageable. Which information is considered to be unneeded is ofcourse a key challenge in designing such an interface. \n",
    "\n",
    "For example, when we train a [CNN](https://en.wikipedia.org/wiki/Convolutional_neural_network) to perform image recognition there is no need for the applied user to be aware of how exactly [gradient descent fits the coefficients of the neural network](https://ml4a.github.io/ml4a/how_neural_networks_are_trained/). Nor should the user be asked to tweak settings deep inside the neural network if good automatic ways of estimating them exist. Ofcourse, in an ideal system the underlying details can be accessed if the user so desires. \n",
    "\n",
    "*Stability and ease of software management*\n",
    "\n",
    "Installing and updating the system should be very easy. In addition, the software should be very stable and predictable. Strange bugs and unexpected behavior are the bane of the non-it focused user: they simply want to get work done and not deal with days of delicately setting up a working system. \n",
    "\n",
    "I recently delved into reinforcement learning, and ended up using [ReAgent](https://reagent.ai/). The system is a big step up from the code a researcher would write, but it is certainly not an accessible and robust system like [sklearn](https://scikit-learn.org/stable/). The lack of accessibility makes it really hard to work with if you cannot dedicate yourself to ReAgent full-time. This limited the usability for myself as I could only dedicate one day a week. Getting deep learning tools into the hands to *part-time* users, especially domain experts, has great potential to get a lot of real-world problems solved. \n",
    "\n",
    "*Reasonable resource usage*\n",
    "\n",
    "Going from smaller datasets and tools like regression to larger datasets and deep learning, the amount of computing resources needed grows exponentially. Large companies and research groups can invest into large amounts of this compute, but this is not feasible for the average user. One of the key design principles of FastAI is that it should run on a single GPU, making the investement feasible as you only need a decent gaming or workstation pc. \n",
    "\n",
    "# What about fundamental research\n",
    "With all this talk of applied deep learning being important, what about hardcore research? One of Howard's frustrations was that the deep learning research community was overly focused on small incremental updates to algorithms. Make the learning proces five percent faster, make a slight tweak to the architecture of a network to increase performance. He really wants to solve real-world problems, not get stuck in minor details. \n",
    "\n",
    "Ofcourse, without research all the fancy algorithms and tools would not exist in the first place for FastAI to pick up. In my opinion we need both: researchers invent new methods of solving issues and industry people and domain experts can take the tools and apply them to new settings. Tools like FastAI go a long way to enabling industry and domain experts to enable them to do just that. "
   ]
  }
 ],
 "metadata": {
  "kernelspec": {
   "display_name": "Python 3",
   "language": "python",
   "name": "python3"
  },
  "language_info": {
   "codemirror_mode": {
    "name": "ipython",
    "version": 3
   },
   "file_extension": ".py",
   "mimetype": "text/x-python",
   "name": "python",
   "nbconvert_exporter": "python",
   "pygments_lexer": "ipython3",
   "version": "3.7.6"
  }
 },
 "nbformat": 4,
 "nbformat_minor": 4
}
